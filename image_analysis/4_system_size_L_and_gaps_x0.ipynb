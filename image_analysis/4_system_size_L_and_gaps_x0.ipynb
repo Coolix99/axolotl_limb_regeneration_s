{
 "cells": [
  {
   "cell_type": "code",
   "execution_count": 1,
   "id": "3e231dd7-d95d-4d78-bedf-a5b275111c2a",
   "metadata": {},
   "outputs": [],
   "source": [
    "%load_ext autoreload\n",
    "%autoreload 2"
   ]
  },
  {
   "cell_type": "code",
   "execution_count": 2,
   "id": "e993eec9-c892-4c11-a1ad-7430e734be3f",
   "metadata": {},
   "outputs": [],
   "source": [
    "import numpy as np\n",
    "import os\n",
    "import re\n",
    "import pandas as pd\n",
    "import matplotlib.pylab as plt\n",
    "\n",
    "from image_analysis.read_files import get_paths, change_paths\n",
    "from image_analysis.fit import plot, roi, regionprops\n",
    "from image_analysis.preprocess import mask\n",
    "\n",
    "from tqdm import tqdm"
   ]
  },
  {
   "cell_type": "code",
   "execution_count": 3,
   "id": "96ef274a-7206-4299-aa16-f1a1255f4831",
   "metadata": {},
   "outputs": [],
   "source": [
    "pixel_size = 2"
   ]
  },
  {
   "cell_type": "code",
   "execution_count": 4,
   "id": "2c7ed9ae-f310-4c7b-b7a0-3afed526c482",
   "metadata": {},
   "outputs": [],
   "source": [
    "folder_pretreated = r'example_pretreated_images/'"
   ]
  },
  {
   "cell_type": "code",
   "execution_count": 5,
   "id": "845d6222-0ca4-4480-bee8-7f15f8963ff7",
   "metadata": {},
   "outputs": [],
   "source": [
    "img_paths = get_paths(folder_pretreated, exclude='.lif_', suffix='.npy')\n",
    "img_paths = change_paths(img_paths, '', 'pixel')\n",
    "img_paths = change_paths(img_paths, '', 'keys')\n",
    "\n",
    "names = [os.path.basename(file).split('.npy')[0] for file in img_paths]"
   ]
  },
  {
   "cell_type": "code",
   "execution_count": 6,
   "id": "a27b85c4-ffac-4e1f-bedd-4fbce54a76e0",
   "metadata": {},
   "outputs": [],
   "source": [
    "df = pd.DataFrame(names, columns=['pretreated_file_name'])\n",
    "df['hcr'] = [ int(name.split('_')[0].split('hcr')[1]) for name in df['pretreated_file_name'] ]"
   ]
  },
  {
   "cell_type": "code",
   "execution_count": 7,
   "id": "2061f8c0-f406-4f8a-8448-0843cc08144a",
   "metadata": {},
   "outputs": [
    {
     "data": {
      "text/html": [
       "<div>\n",
       "<style scoped>\n",
       "    .dataframe tbody tr th:only-of-type {\n",
       "        vertical-align: middle;\n",
       "    }\n",
       "\n",
       "    .dataframe tbody tr th {\n",
       "        vertical-align: top;\n",
       "    }\n",
       "\n",
       "    .dataframe thead th {\n",
       "        text-align: right;\n",
       "    }\n",
       "</style>\n",
       "<table border=\"1\" class=\"dataframe\">\n",
       "  <thead>\n",
       "    <tr style=\"text-align: right;\">\n",
       "      <th></th>\n",
       "      <th>pretreated_file_name</th>\n",
       "      <th>hcr</th>\n",
       "    </tr>\n",
       "  </thead>\n",
       "  <tbody>\n",
       "    <tr>\n",
       "      <th>0</th>\n",
       "      <td>hcr21_2_5cm_7dpa_noif</td>\n",
       "      <td>21</td>\n",
       "    </tr>\n",
       "    <tr>\n",
       "      <th>1</th>\n",
       "      <td>hcr21_2_5cm_6dpa_p_hist</td>\n",
       "      <td>21</td>\n",
       "    </tr>\n",
       "  </tbody>\n",
       "</table>\n",
       "</div>"
      ],
      "text/plain": [
       "      pretreated_file_name  hcr\n",
       "0    hcr21_2_5cm_7dpa_noif   21\n",
       "1  hcr21_2_5cm_6dpa_p_hist   21"
      ]
     },
     "execution_count": 7,
     "metadata": {},
     "output_type": "execute_result"
    }
   ],
   "source": [
    "df"
   ]
  },
  {
   "cell_type": "code",
   "execution_count": 8,
   "id": "a289a307-4d77-4790-ad62-03768de7dc30",
   "metadata": {},
   "outputs": [],
   "source": [
    "for pc in [40, 50, 60, 70, 80]:\n",
    "\n",
    "    df[f'system_size_L_along_SF_pc{pc}_um']  = pd.NA\n",
    "    df[f'length_L_SF_pc{pc}_um']  = pd.NA\n",
    "    \n",
    "    df[f'x0_pc{pc}_um_shh']  = pd.NA\n",
    "    df[f'x0_pc{pc}_um_fgf'] = pd.NA"
   ]
  },
  {
   "cell_type": "code",
   "execution_count": 9,
   "id": "2b26c26c-01b3-40d0-89da-6da6e5a8a8b5",
   "metadata": {},
   "outputs": [
    {
     "name": "stderr",
     "output_type": "stream",
     "text": [
      "0it [00:00, ?it/s]/home/natalia/Documents/github_image_analysis/image_analysis/image_analysis/fit/regionprops.py:25: RuntimeWarning: Mean of empty slice\n",
      "  img_arr_x = np.nanmean(np.nanmean(img_arr, axis=0), axis=0)\n",
      "/home/natalia/Documents/github_image_analysis/image_analysis/image_analysis/fit/regionprops.py:28: RuntimeWarning: Mean of empty slice\n",
      "  img_arr_y = np.nanmean(np.nanmean(img_arr, axis=0), axis=1)\n",
      "/home/natalia/Documents/github_image_analysis/image_analysis/image_analysis/fit/regionprops.py:31: RuntimeWarning: Mean of empty slice\n",
      "  img_arr_z = np.nanmean(np.nanmean(img_arr, axis=1), axis=1)\n"
     ]
    },
    {
     "name": "stdout",
     "output_type": "stream",
     "text": [
      "rotation around x:\n",
      "-4.5739212599008 0 0\n",
      "dictionary, with 3d data\n",
      "dictionary, with 3d data\n"
     ]
    },
    {
     "name": "stderr",
     "output_type": "stream",
     "text": [
      "/home/natalia/Documents/github_image_analysis/image_analysis/image_analysis/fit/regionprops.py:25: RuntimeWarning: Mean of empty slice\n",
      "  img_arr_x = np.nanmean(np.nanmean(img_arr, axis=0), axis=0)\n",
      "/home/natalia/Documents/github_image_analysis/image_analysis/image_analysis/fit/regionprops.py:28: RuntimeWarning: Mean of empty slice\n",
      "  img_arr_y = np.nanmean(np.nanmean(img_arr, axis=0), axis=1)\n",
      "/home/natalia/Documents/github_image_analysis/image_analysis/image_analysis/fit/regionprops.py:31: RuntimeWarning: Mean of empty slice\n",
      "  img_arr_z = np.nanmean(np.nanmean(img_arr, axis=1), axis=1)\n"
     ]
    },
    {
     "name": "stdout",
     "output_type": "stream",
     "text": [
      "rotation around y:\n",
      "0 0 25.85607883545016\n",
      "dictionary, with 3d data\n",
      "dictionary, with 3d data\n",
      "strange rotation\n",
      "angle beetween ey and sf: 10\n"
     ]
    },
    {
     "name": "stderr",
     "output_type": "stream",
     "text": [
      "/home/natalia/Documents/github_image_analysis/image_analysis/image_analysis/fit/regionprops.py:25: RuntimeWarning: Mean of empty slice\n",
      "  img_arr_x = np.nanmean(np.nanmean(img_arr, axis=0), axis=0)\n",
      "/home/natalia/Documents/github_image_analysis/image_analysis/image_analysis/fit/regionprops.py:28: RuntimeWarning: Mean of empty slice\n",
      "  img_arr_y = np.nanmean(np.nanmean(img_arr, axis=0), axis=1)\n",
      "/home/natalia/Documents/github_image_analysis/image_analysis/image_analysis/fit/regionprops.py:31: RuntimeWarning: Mean of empty slice\n",
      "  img_arr_z = np.nanmean(np.nanmean(img_arr, axis=1), axis=1)\n"
     ]
    },
    {
     "name": "stdout",
     "output_type": "stream",
     "text": [
      "rotation around x:\n",
      "-7.125016348901767 0 0\n",
      "dictionary, with 3d data\n",
      "dictionary, with 3d data\n",
      "rotation around y:\n",
      "0 0 48.59566357138238\n",
      "dictionary, with 3d data\n",
      "dictionary, with 3d data\n",
      "angle beetween ey and sf: 4\n"
     ]
    },
    {
     "name": "stderr",
     "output_type": "stream",
     "text": [
      "/home/natalia/Documents/github_image_analysis/image_analysis/image_analysis/fit/regionprops.py:25: RuntimeWarning: Mean of empty slice\n",
      "  img_arr_x = np.nanmean(np.nanmean(img_arr, axis=0), axis=0)\n",
      "/home/natalia/Documents/github_image_analysis/image_analysis/image_analysis/fit/regionprops.py:28: RuntimeWarning: Mean of empty slice\n",
      "  img_arr_y = np.nanmean(np.nanmean(img_arr, axis=0), axis=1)\n",
      "/home/natalia/Documents/github_image_analysis/image_analysis/image_analysis/fit/regionprops.py:31: RuntimeWarning: Mean of empty slice\n",
      "  img_arr_z = np.nanmean(np.nanmean(img_arr, axis=1), axis=1)\n"
     ]
    },
    {
     "name": "stdout",
     "output_type": "stream",
     "text": [
      "rotation around x:\n",
      "-7.177245850855002 0 0\n",
      "dictionary, with 3d data\n",
      "dictionary, with 3d data\n",
      "rotation around y:\n",
      "0 0 49.170797051919386\n",
      "dictionary, with 3d data\n",
      "dictionary, with 3d data\n",
      "angle beetween ey and sf: 4\n"
     ]
    },
    {
     "name": "stderr",
     "output_type": "stream",
     "text": [
      "/home/natalia/Documents/github_image_analysis/image_analysis/image_analysis/fit/regionprops.py:25: RuntimeWarning: Mean of empty slice\n",
      "  img_arr_x = np.nanmean(np.nanmean(img_arr, axis=0), axis=0)\n",
      "/home/natalia/Documents/github_image_analysis/image_analysis/image_analysis/fit/regionprops.py:28: RuntimeWarning: Mean of empty slice\n",
      "  img_arr_y = np.nanmean(np.nanmean(img_arr, axis=0), axis=1)\n",
      "/home/natalia/Documents/github_image_analysis/image_analysis/image_analysis/fit/regionprops.py:31: RuntimeWarning: Mean of empty slice\n",
      "  img_arr_z = np.nanmean(np.nanmean(img_arr, axis=1), axis=1)\n"
     ]
    },
    {
     "name": "stdout",
     "output_type": "stream",
     "text": [
      "rotation around x:\n",
      "-10.591527747971384 0 0\n",
      "dictionary, with 3d data\n",
      "dictionary, with 3d data\n",
      "rotation around y:\n",
      "0 0 51.9892241212503\n",
      "dictionary, with 3d data\n",
      "dictionary, with 3d data\n",
      "angle beetween ey and sf: 2\n"
     ]
    },
    {
     "name": "stderr",
     "output_type": "stream",
     "text": [
      "/home/natalia/Documents/github_image_analysis/image_analysis/image_analysis/fit/regionprops.py:25: RuntimeWarning: Mean of empty slice\n",
      "  img_arr_x = np.nanmean(np.nanmean(img_arr, axis=0), axis=0)\n",
      "/home/natalia/Documents/github_image_analysis/image_analysis/image_analysis/fit/regionprops.py:28: RuntimeWarning: Mean of empty slice\n",
      "  img_arr_y = np.nanmean(np.nanmean(img_arr, axis=0), axis=1)\n",
      "/home/natalia/Documents/github_image_analysis/image_analysis/image_analysis/fit/regionprops.py:31: RuntimeWarning: Mean of empty slice\n",
      "  img_arr_z = np.nanmean(np.nanmean(img_arr, axis=1), axis=1)\n"
     ]
    },
    {
     "name": "stdout",
     "output_type": "stream",
     "text": [
      "rotation around x:\n",
      "-13.102789941262444 0 0\n",
      "dictionary, with 3d data\n",
      "dictionary, with 3d data\n",
      "rotation around y:\n",
      "0 0 53.02430882151116\n",
      "dictionary, with 3d data\n",
      "dictionary, with 3d data\n",
      "angle beetween ey and sf: 2\n"
     ]
    },
    {
     "name": "stderr",
     "output_type": "stream",
     "text": [
      "1it [00:22, 22.12s/it]/home/natalia/Documents/github_image_analysis/image_analysis/image_analysis/fit/regionprops.py:25: RuntimeWarning: Mean of empty slice\n",
      "  img_arr_x = np.nanmean(np.nanmean(img_arr, axis=0), axis=0)\n",
      "/home/natalia/Documents/github_image_analysis/image_analysis/image_analysis/fit/regionprops.py:28: RuntimeWarning: Mean of empty slice\n",
      "  img_arr_y = np.nanmean(np.nanmean(img_arr, axis=0), axis=1)\n",
      "/home/natalia/Documents/github_image_analysis/image_analysis/image_analysis/fit/regionprops.py:31: RuntimeWarning: Mean of empty slice\n",
      "  img_arr_z = np.nanmean(np.nanmean(img_arr, axis=1), axis=1)\n"
     ]
    },
    {
     "name": "stdout",
     "output_type": "stream",
     "text": [
      "rotation around x:\n",
      "6.340191745909891 0 0\n",
      "dictionary, with 3d data\n",
      "dictionary, with 3d data\n",
      "rotation around y:\n",
      "0 0 67.95053438280718\n",
      "dictionary, with 3d data\n",
      "dictionary, with 3d data\n",
      "angle beetween ey and sf: -2\n"
     ]
    },
    {
     "name": "stderr",
     "output_type": "stream",
     "text": [
      "/home/natalia/Documents/github_image_analysis/image_analysis/image_analysis/fit/regionprops.py:25: RuntimeWarning: Mean of empty slice\n",
      "  img_arr_x = np.nanmean(np.nanmean(img_arr, axis=0), axis=0)\n",
      "/home/natalia/Documents/github_image_analysis/image_analysis/image_analysis/fit/regionprops.py:28: RuntimeWarning: Mean of empty slice\n",
      "  img_arr_y = np.nanmean(np.nanmean(img_arr, axis=0), axis=1)\n",
      "/home/natalia/Documents/github_image_analysis/image_analysis/image_analysis/fit/regionprops.py:31: RuntimeWarning: Mean of empty slice\n",
      "  img_arr_z = np.nanmean(np.nanmean(img_arr, axis=1), axis=1)\n"
     ]
    },
    {
     "name": "stdout",
     "output_type": "stream",
     "text": [
      "rotation around x:\n",
      "8.820379552021052 0 0\n",
      "dictionary, with 3d data\n",
      "dictionary, with 3d data\n",
      "rotation around y:\n",
      "0 0 70.3044956184253\n",
      "dictionary, with 3d data\n",
      "dictionary, with 3d data\n",
      "angle beetween ey and sf: -3\n"
     ]
    },
    {
     "name": "stderr",
     "output_type": "stream",
     "text": [
      "/home/natalia/Documents/github_image_analysis/image_analysis/image_analysis/fit/regionprops.py:25: RuntimeWarning: Mean of empty slice\n",
      "  img_arr_x = np.nanmean(np.nanmean(img_arr, axis=0), axis=0)\n",
      "/home/natalia/Documents/github_image_analysis/image_analysis/image_analysis/fit/regionprops.py:28: RuntimeWarning: Mean of empty slice\n",
      "  img_arr_y = np.nanmean(np.nanmean(img_arr, axis=0), axis=1)\n",
      "/home/natalia/Documents/github_image_analysis/image_analysis/image_analysis/fit/regionprops.py:31: RuntimeWarning: Mean of empty slice\n",
      "  img_arr_z = np.nanmean(np.nanmean(img_arr, axis=1), axis=1)\n"
     ]
    },
    {
     "name": "stdout",
     "output_type": "stream",
     "text": [
      "rotation around x:\n",
      "-1.5074357587748466 0 0\n",
      "dictionary, with 3d data\n",
      "dictionary, with 3d data\n",
      "rotation around y:\n",
      "0 0 77.03097667129265\n",
      "dictionary, with 3d data\n",
      "dictionary, with 3d data\n",
      "angle beetween ey and sf: 1\n"
     ]
    },
    {
     "name": "stderr",
     "output_type": "stream",
     "text": [
      "/home/natalia/Documents/github_image_analysis/image_analysis/image_analysis/fit/regionprops.py:25: RuntimeWarning: Mean of empty slice\n",
      "  img_arr_x = np.nanmean(np.nanmean(img_arr, axis=0), axis=0)\n",
      "/home/natalia/Documents/github_image_analysis/image_analysis/image_analysis/fit/regionprops.py:28: RuntimeWarning: Mean of empty slice\n",
      "  img_arr_y = np.nanmean(np.nanmean(img_arr, axis=0), axis=1)\n",
      "/home/natalia/Documents/github_image_analysis/image_analysis/image_analysis/fit/regionprops.py:31: RuntimeWarning: Mean of empty slice\n",
      "  img_arr_z = np.nanmean(np.nanmean(img_arr, axis=1), axis=1)\n"
     ]
    },
    {
     "name": "stdout",
     "output_type": "stream",
     "text": [
      "rotation around x:\n",
      "-5.856013585428968 0 0\n",
      "dictionary, with 3d data\n",
      "dictionary, with 3d data\n",
      "rotation around y:\n",
      "0 0 76.77895123478159\n",
      "dictionary, with 3d data\n",
      "dictionary, with 3d data\n",
      "angle beetween ey and sf: 1\n"
     ]
    },
    {
     "name": "stderr",
     "output_type": "stream",
     "text": [
      "/home/natalia/Documents/github_image_analysis/image_analysis/image_analysis/fit/regionprops.py:25: RuntimeWarning: Mean of empty slice\n",
      "  img_arr_x = np.nanmean(np.nanmean(img_arr, axis=0), axis=0)\n",
      "/home/natalia/Documents/github_image_analysis/image_analysis/image_analysis/fit/regionprops.py:28: RuntimeWarning: Mean of empty slice\n",
      "  img_arr_y = np.nanmean(np.nanmean(img_arr, axis=0), axis=1)\n",
      "/home/natalia/Documents/github_image_analysis/image_analysis/image_analysis/fit/regionprops.py:31: RuntimeWarning: Mean of empty slice\n",
      "  img_arr_z = np.nanmean(np.nanmean(img_arr, axis=1), axis=1)\n"
     ]
    },
    {
     "name": "stdout",
     "output_type": "stream",
     "text": [
      "rotation around x:\n",
      "5.906141113770502 0 0\n",
      "dictionary, with 3d data\n",
      "dictionary, with 3d data\n",
      "rotation around y:\n",
      "0 0 70.30276413857383\n",
      "dictionary, with 3d data\n",
      "dictionary, with 3d data\n",
      "angle beetween ey and sf: 1\n"
     ]
    },
    {
     "name": "stderr",
     "output_type": "stream",
     "text": [
      "2it [00:38, 19.40s/it]\n"
     ]
    },
    {
     "ename": "OSError",
     "evalue": "Cannot save file into a non-existent directory: 'system_size_L_and_gaps_x0'",
     "output_type": "error",
     "traceback": [
      "\u001b[0;31m---------------------------------------------------------------------------\u001b[0m",
      "\u001b[0;31mOSError\u001b[0m                                   Traceback (most recent call last)",
      "Cell \u001b[0;32mIn[9], line 41\u001b[0m\n\u001b[1;32m     38\u001b[0m             df\u001b[38;5;241m.\u001b[39mloc[df[\u001b[38;5;124m'\u001b[39m\u001b[38;5;124mpretreated_file_name\u001b[39m\u001b[38;5;124m'\u001b[39m] \u001b[38;5;241m==\u001b[39m file_name, \u001b[38;5;124mf\u001b[39m\u001b[38;5;124m'\u001b[39m\u001b[38;5;124mx0_pc\u001b[39m\u001b[38;5;132;01m{\u001b[39;00mpc\u001b[38;5;132;01m}\u001b[39;00m\u001b[38;5;124m_um_shh\u001b[39m\u001b[38;5;124m'\u001b[39m]                  \u001b[38;5;241m=\u001b[39m x0_S\n\u001b[1;32m     39\u001b[0m             df\u001b[38;5;241m.\u001b[39mloc[df[\u001b[38;5;124m'\u001b[39m\u001b[38;5;124mpretreated_file_name\u001b[39m\u001b[38;5;124m'\u001b[39m] \u001b[38;5;241m==\u001b[39m file_name, \u001b[38;5;124mf\u001b[39m\u001b[38;5;124m'\u001b[39m\u001b[38;5;124mx0_pc\u001b[39m\u001b[38;5;132;01m{\u001b[39;00mpc\u001b[38;5;132;01m}\u001b[39;00m\u001b[38;5;124m_um_fgf\u001b[39m\u001b[38;5;124m'\u001b[39m]                  \u001b[38;5;241m=\u001b[39m x0_F\n\u001b[0;32m---> 41\u001b[0m \u001b[43mdf\u001b[49m\u001b[38;5;241;43m.\u001b[39;49m\u001b[43mto_excel\u001b[49m\u001b[43m(\u001b[49m\u001b[38;5;124;43m\"\u001b[39;49m\u001b[38;5;124;43msystem_size_L_and_gaps_x0/system_size_L_and_gaps_x0.xlsx\u001b[39;49m\u001b[38;5;124;43m\"\u001b[39;49m\u001b[43m,\u001b[49m\u001b[43m \u001b[49m\u001b[43mindex\u001b[49m\u001b[38;5;241;43m=\u001b[39;49m\u001b[38;5;28;43;01mFalse\u001b[39;49;00m\u001b[43m)\u001b[49m\n",
      "File \u001b[0;32m~/miniconda3/envs/image_analysis_2/lib/python3.9/site-packages/pandas/util/_decorators.py:333\u001b[0m, in \u001b[0;36mdeprecate_nonkeyword_arguments.<locals>.decorate.<locals>.wrapper\u001b[0;34m(*args, **kwargs)\u001b[0m\n\u001b[1;32m    327\u001b[0m \u001b[38;5;28;01mif\u001b[39;00m \u001b[38;5;28mlen\u001b[39m(args) \u001b[38;5;241m>\u001b[39m num_allow_args:\n\u001b[1;32m    328\u001b[0m     warnings\u001b[38;5;241m.\u001b[39mwarn(\n\u001b[1;32m    329\u001b[0m         msg\u001b[38;5;241m.\u001b[39mformat(arguments\u001b[38;5;241m=\u001b[39m_format_argument_list(allow_args)),\n\u001b[1;32m    330\u001b[0m         \u001b[38;5;167;01mFutureWarning\u001b[39;00m,\n\u001b[1;32m    331\u001b[0m         stacklevel\u001b[38;5;241m=\u001b[39mfind_stack_level(),\n\u001b[1;32m    332\u001b[0m     )\n\u001b[0;32m--> 333\u001b[0m \u001b[38;5;28;01mreturn\u001b[39;00m \u001b[43mfunc\u001b[49m\u001b[43m(\u001b[49m\u001b[38;5;241;43m*\u001b[39;49m\u001b[43margs\u001b[49m\u001b[43m,\u001b[49m\u001b[43m \u001b[49m\u001b[38;5;241;43m*\u001b[39;49m\u001b[38;5;241;43m*\u001b[39;49m\u001b[43mkwargs\u001b[49m\u001b[43m)\u001b[49m\n",
      "File \u001b[0;32m~/miniconda3/envs/image_analysis_2/lib/python3.9/site-packages/pandas/core/generic.py:2417\u001b[0m, in \u001b[0;36mNDFrame.to_excel\u001b[0;34m(self, excel_writer, sheet_name, na_rep, float_format, columns, header, index, index_label, startrow, startcol, engine, merge_cells, inf_rep, freeze_panes, storage_options, engine_kwargs)\u001b[0m\n\u001b[1;32m   2404\u001b[0m \u001b[38;5;28;01mfrom\u001b[39;00m \u001b[38;5;21;01mpandas\u001b[39;00m\u001b[38;5;21;01m.\u001b[39;00m\u001b[38;5;21;01mio\u001b[39;00m\u001b[38;5;21;01m.\u001b[39;00m\u001b[38;5;21;01mformats\u001b[39;00m\u001b[38;5;21;01m.\u001b[39;00m\u001b[38;5;21;01mexcel\u001b[39;00m \u001b[38;5;28;01mimport\u001b[39;00m ExcelFormatter\n\u001b[1;32m   2406\u001b[0m formatter \u001b[38;5;241m=\u001b[39m ExcelFormatter(\n\u001b[1;32m   2407\u001b[0m     df,\n\u001b[1;32m   2408\u001b[0m     na_rep\u001b[38;5;241m=\u001b[39mna_rep,\n\u001b[0;32m   (...)\u001b[0m\n\u001b[1;32m   2415\u001b[0m     inf_rep\u001b[38;5;241m=\u001b[39minf_rep,\n\u001b[1;32m   2416\u001b[0m )\n\u001b[0;32m-> 2417\u001b[0m \u001b[43mformatter\u001b[49m\u001b[38;5;241;43m.\u001b[39;49m\u001b[43mwrite\u001b[49m\u001b[43m(\u001b[49m\n\u001b[1;32m   2418\u001b[0m \u001b[43m    \u001b[49m\u001b[43mexcel_writer\u001b[49m\u001b[43m,\u001b[49m\n\u001b[1;32m   2419\u001b[0m \u001b[43m    \u001b[49m\u001b[43msheet_name\u001b[49m\u001b[38;5;241;43m=\u001b[39;49m\u001b[43msheet_name\u001b[49m\u001b[43m,\u001b[49m\n\u001b[1;32m   2420\u001b[0m \u001b[43m    \u001b[49m\u001b[43mstartrow\u001b[49m\u001b[38;5;241;43m=\u001b[39;49m\u001b[43mstartrow\u001b[49m\u001b[43m,\u001b[49m\n\u001b[1;32m   2421\u001b[0m \u001b[43m    \u001b[49m\u001b[43mstartcol\u001b[49m\u001b[38;5;241;43m=\u001b[39;49m\u001b[43mstartcol\u001b[49m\u001b[43m,\u001b[49m\n\u001b[1;32m   2422\u001b[0m \u001b[43m    \u001b[49m\u001b[43mfreeze_panes\u001b[49m\u001b[38;5;241;43m=\u001b[39;49m\u001b[43mfreeze_panes\u001b[49m\u001b[43m,\u001b[49m\n\u001b[1;32m   2423\u001b[0m \u001b[43m    \u001b[49m\u001b[43mengine\u001b[49m\u001b[38;5;241;43m=\u001b[39;49m\u001b[43mengine\u001b[49m\u001b[43m,\u001b[49m\n\u001b[1;32m   2424\u001b[0m \u001b[43m    \u001b[49m\u001b[43mstorage_options\u001b[49m\u001b[38;5;241;43m=\u001b[39;49m\u001b[43mstorage_options\u001b[49m\u001b[43m,\u001b[49m\n\u001b[1;32m   2425\u001b[0m \u001b[43m    \u001b[49m\u001b[43mengine_kwargs\u001b[49m\u001b[38;5;241;43m=\u001b[39;49m\u001b[43mengine_kwargs\u001b[49m\u001b[43m,\u001b[49m\n\u001b[1;32m   2426\u001b[0m \u001b[43m\u001b[49m\u001b[43m)\u001b[49m\n",
      "File \u001b[0;32m~/miniconda3/envs/image_analysis_2/lib/python3.9/site-packages/pandas/io/formats/excel.py:943\u001b[0m, in \u001b[0;36mExcelFormatter.write\u001b[0;34m(self, writer, sheet_name, startrow, startcol, freeze_panes, engine, storage_options, engine_kwargs)\u001b[0m\n\u001b[1;32m    941\u001b[0m     need_save \u001b[38;5;241m=\u001b[39m \u001b[38;5;28;01mFalse\u001b[39;00m\n\u001b[1;32m    942\u001b[0m \u001b[38;5;28;01melse\u001b[39;00m:\n\u001b[0;32m--> 943\u001b[0m     writer \u001b[38;5;241m=\u001b[39m \u001b[43mExcelWriter\u001b[49m\u001b[43m(\u001b[49m\n\u001b[1;32m    944\u001b[0m \u001b[43m        \u001b[49m\u001b[43mwriter\u001b[49m\u001b[43m,\u001b[49m\n\u001b[1;32m    945\u001b[0m \u001b[43m        \u001b[49m\u001b[43mengine\u001b[49m\u001b[38;5;241;43m=\u001b[39;49m\u001b[43mengine\u001b[49m\u001b[43m,\u001b[49m\n\u001b[1;32m    946\u001b[0m \u001b[43m        \u001b[49m\u001b[43mstorage_options\u001b[49m\u001b[38;5;241;43m=\u001b[39;49m\u001b[43mstorage_options\u001b[49m\u001b[43m,\u001b[49m\n\u001b[1;32m    947\u001b[0m \u001b[43m        \u001b[49m\u001b[43mengine_kwargs\u001b[49m\u001b[38;5;241;43m=\u001b[39;49m\u001b[43mengine_kwargs\u001b[49m\u001b[43m,\u001b[49m\n\u001b[1;32m    948\u001b[0m \u001b[43m    \u001b[49m\u001b[43m)\u001b[49m\n\u001b[1;32m    949\u001b[0m     need_save \u001b[38;5;241m=\u001b[39m \u001b[38;5;28;01mTrue\u001b[39;00m\n\u001b[1;32m    951\u001b[0m \u001b[38;5;28;01mtry\u001b[39;00m:\n",
      "File \u001b[0;32m~/miniconda3/envs/image_analysis_2/lib/python3.9/site-packages/pandas/io/excel/_openpyxl.py:61\u001b[0m, in \u001b[0;36mOpenpyxlWriter.__init__\u001b[0;34m(self, path, engine, date_format, datetime_format, mode, storage_options, if_sheet_exists, engine_kwargs, **kwargs)\u001b[0m\n\u001b[1;32m     57\u001b[0m \u001b[38;5;28;01mfrom\u001b[39;00m \u001b[38;5;21;01mopenpyxl\u001b[39;00m\u001b[38;5;21;01m.\u001b[39;00m\u001b[38;5;21;01mworkbook\u001b[39;00m \u001b[38;5;28;01mimport\u001b[39;00m Workbook\n\u001b[1;32m     59\u001b[0m engine_kwargs \u001b[38;5;241m=\u001b[39m combine_kwargs(engine_kwargs, kwargs)\n\u001b[0;32m---> 61\u001b[0m \u001b[38;5;28;43msuper\u001b[39;49m\u001b[43m(\u001b[49m\u001b[43m)\u001b[49m\u001b[38;5;241;43m.\u001b[39;49m\u001b[38;5;21;43m__init__\u001b[39;49m\u001b[43m(\u001b[49m\n\u001b[1;32m     62\u001b[0m \u001b[43m    \u001b[49m\u001b[43mpath\u001b[49m\u001b[43m,\u001b[49m\n\u001b[1;32m     63\u001b[0m \u001b[43m    \u001b[49m\u001b[43mmode\u001b[49m\u001b[38;5;241;43m=\u001b[39;49m\u001b[43mmode\u001b[49m\u001b[43m,\u001b[49m\n\u001b[1;32m     64\u001b[0m \u001b[43m    \u001b[49m\u001b[43mstorage_options\u001b[49m\u001b[38;5;241;43m=\u001b[39;49m\u001b[43mstorage_options\u001b[49m\u001b[43m,\u001b[49m\n\u001b[1;32m     65\u001b[0m \u001b[43m    \u001b[49m\u001b[43mif_sheet_exists\u001b[49m\u001b[38;5;241;43m=\u001b[39;49m\u001b[43mif_sheet_exists\u001b[49m\u001b[43m,\u001b[49m\n\u001b[1;32m     66\u001b[0m \u001b[43m    \u001b[49m\u001b[43mengine_kwargs\u001b[49m\u001b[38;5;241;43m=\u001b[39;49m\u001b[43mengine_kwargs\u001b[49m\u001b[43m,\u001b[49m\n\u001b[1;32m     67\u001b[0m \u001b[43m\u001b[49m\u001b[43m)\u001b[49m\n\u001b[1;32m     69\u001b[0m \u001b[38;5;66;03m# ExcelWriter replaced \"a\" by \"r+\" to allow us to first read the excel file from\u001b[39;00m\n\u001b[1;32m     70\u001b[0m \u001b[38;5;66;03m# the file and later write to it\u001b[39;00m\n\u001b[1;32m     71\u001b[0m \u001b[38;5;28;01mif\u001b[39;00m \u001b[38;5;124m\"\u001b[39m\u001b[38;5;124mr+\u001b[39m\u001b[38;5;124m\"\u001b[39m \u001b[38;5;129;01min\u001b[39;00m \u001b[38;5;28mself\u001b[39m\u001b[38;5;241m.\u001b[39m_mode:  \u001b[38;5;66;03m# Load from existing workbook\u001b[39;00m\n",
      "File \u001b[0;32m~/miniconda3/envs/image_analysis_2/lib/python3.9/site-packages/pandas/io/excel/_base.py:1246\u001b[0m, in \u001b[0;36mExcelWriter.__init__\u001b[0;34m(self, path, engine, date_format, datetime_format, mode, storage_options, if_sheet_exists, engine_kwargs)\u001b[0m\n\u001b[1;32m   1242\u001b[0m \u001b[38;5;28mself\u001b[39m\u001b[38;5;241m.\u001b[39m_handles \u001b[38;5;241m=\u001b[39m IOHandles(\n\u001b[1;32m   1243\u001b[0m     cast(IO[\u001b[38;5;28mbytes\u001b[39m], path), compression\u001b[38;5;241m=\u001b[39m{\u001b[38;5;124m\"\u001b[39m\u001b[38;5;124mcompression\u001b[39m\u001b[38;5;124m\"\u001b[39m: \u001b[38;5;28;01mNone\u001b[39;00m}\n\u001b[1;32m   1244\u001b[0m )\n\u001b[1;32m   1245\u001b[0m \u001b[38;5;28;01mif\u001b[39;00m \u001b[38;5;129;01mnot\u001b[39;00m \u001b[38;5;28misinstance\u001b[39m(path, ExcelWriter):\n\u001b[0;32m-> 1246\u001b[0m     \u001b[38;5;28mself\u001b[39m\u001b[38;5;241m.\u001b[39m_handles \u001b[38;5;241m=\u001b[39m \u001b[43mget_handle\u001b[49m\u001b[43m(\u001b[49m\n\u001b[1;32m   1247\u001b[0m \u001b[43m        \u001b[49m\u001b[43mpath\u001b[49m\u001b[43m,\u001b[49m\u001b[43m \u001b[49m\u001b[43mmode\u001b[49m\u001b[43m,\u001b[49m\u001b[43m \u001b[49m\u001b[43mstorage_options\u001b[49m\u001b[38;5;241;43m=\u001b[39;49m\u001b[43mstorage_options\u001b[49m\u001b[43m,\u001b[49m\u001b[43m \u001b[49m\u001b[43mis_text\u001b[49m\u001b[38;5;241;43m=\u001b[39;49m\u001b[38;5;28;43;01mFalse\u001b[39;49;00m\n\u001b[1;32m   1248\u001b[0m \u001b[43m    \u001b[49m\u001b[43m)\u001b[49m\n\u001b[1;32m   1249\u001b[0m \u001b[38;5;28mself\u001b[39m\u001b[38;5;241m.\u001b[39m_cur_sheet \u001b[38;5;241m=\u001b[39m \u001b[38;5;28;01mNone\u001b[39;00m\n\u001b[1;32m   1251\u001b[0m \u001b[38;5;28;01mif\u001b[39;00m date_format \u001b[38;5;129;01mis\u001b[39;00m \u001b[38;5;28;01mNone\u001b[39;00m:\n",
      "File \u001b[0;32m~/miniconda3/envs/image_analysis_2/lib/python3.9/site-packages/pandas/io/common.py:749\u001b[0m, in \u001b[0;36mget_handle\u001b[0;34m(path_or_buf, mode, encoding, compression, memory_map, is_text, errors, storage_options)\u001b[0m\n\u001b[1;32m    747\u001b[0m \u001b[38;5;66;03m# Only for write methods\u001b[39;00m\n\u001b[1;32m    748\u001b[0m \u001b[38;5;28;01mif\u001b[39;00m \u001b[38;5;124m\"\u001b[39m\u001b[38;5;124mr\u001b[39m\u001b[38;5;124m\"\u001b[39m \u001b[38;5;129;01mnot\u001b[39;00m \u001b[38;5;129;01min\u001b[39;00m mode \u001b[38;5;129;01mand\u001b[39;00m is_path:\n\u001b[0;32m--> 749\u001b[0m     \u001b[43mcheck_parent_directory\u001b[49m\u001b[43m(\u001b[49m\u001b[38;5;28;43mstr\u001b[39;49m\u001b[43m(\u001b[49m\u001b[43mhandle\u001b[49m\u001b[43m)\u001b[49m\u001b[43m)\u001b[49m\n\u001b[1;32m    751\u001b[0m \u001b[38;5;28;01mif\u001b[39;00m compression:\n\u001b[1;32m    752\u001b[0m     \u001b[38;5;28;01mif\u001b[39;00m compression \u001b[38;5;241m!=\u001b[39m \u001b[38;5;124m\"\u001b[39m\u001b[38;5;124mzstd\u001b[39m\u001b[38;5;124m\"\u001b[39m:\n\u001b[1;32m    753\u001b[0m         \u001b[38;5;66;03m# compression libraries do not like an explicit text-mode\u001b[39;00m\n",
      "File \u001b[0;32m~/miniconda3/envs/image_analysis_2/lib/python3.9/site-packages/pandas/io/common.py:616\u001b[0m, in \u001b[0;36mcheck_parent_directory\u001b[0;34m(path)\u001b[0m\n\u001b[1;32m    614\u001b[0m parent \u001b[38;5;241m=\u001b[39m Path(path)\u001b[38;5;241m.\u001b[39mparent\n\u001b[1;32m    615\u001b[0m \u001b[38;5;28;01mif\u001b[39;00m \u001b[38;5;129;01mnot\u001b[39;00m parent\u001b[38;5;241m.\u001b[39mis_dir():\n\u001b[0;32m--> 616\u001b[0m     \u001b[38;5;28;01mraise\u001b[39;00m \u001b[38;5;167;01mOSError\u001b[39;00m(\u001b[38;5;124mrf\u001b[39m\u001b[38;5;124m\"\u001b[39m\u001b[38;5;124mCannot save file into a non-existent directory: \u001b[39m\u001b[38;5;124m'\u001b[39m\u001b[38;5;132;01m{\u001b[39;00mparent\u001b[38;5;132;01m}\u001b[39;00m\u001b[38;5;124m'\u001b[39m\u001b[38;5;124m\"\u001b[39m)\n",
      "\u001b[0;31mOSError\u001b[0m: Cannot save file into a non-existent directory: 'system_size_L_and_gaps_x0'"
     ]
    }
   ],
   "source": [
    "for i, file_name in tqdm( enumerate( df['pretreated_file_name'].values) ):\n",
    "    \n",
    "    file = os.path.join( folder_pretreated, file_name) + '.npy'\n",
    "    \n",
    "    keys = np.load( file.split('.npy')[0] + '_keys.npy' )\n",
    "    image = dict(zip(\n",
    "        keys,\n",
    "        np.load( file )\n",
    "    ))\n",
    "\n",
    "    for pc in [40, 50, 60, 70, 80]:\n",
    "        if (f'shh{pc}_clip' in keys) and (f'fgf{pc}_clip' in keys):\n",
    "            \n",
    "            image_to_rotate = dict(zip(\n",
    "                ['shh_clip', 'fgf_clip', 'tissue_mask_with_epi'],\n",
    "                [image[f'shh{pc}_clip'], image[f'fgf{pc}_clip'], image['tissue_mask_with_epi']]\n",
    "            ))\n",
    "             \n",
    "            regionprops_3d = regionprops.regionprops_3d(image_to_rotate, 1, 1, 1, pixel_size)\n",
    "            image_to_rotate = regionprops_3d.rotate_sf_to_ey()\n",
    "\n",
    "            S = regionprops.center_mass( image_to_rotate['shh_clip'] )\n",
    "            F = regionprops.center_mass( image_to_rotate['fgf_clip'] )\n",
    "\n",
    "            L = np.sum( \n",
    "                mask.largest_component( image_to_rotate['tissue_mask_with_epi'][S[0], :, S[2]]  )\n",
    "            ) * pixel_size\n",
    "            L_SF  = np.abs( S[1] - F[1] ) * pixel_size\n",
    "            \n",
    "            ymin = np.nonzero( mask.largest_component(image_to_rotate['tissue_mask_with_epi'][S[0], :, S[2]]) )[0][0]\n",
    "            ymax = np.nonzero( mask.largest_component(image_to_rotate['tissue_mask_with_epi'][S[0], :, S[2]]) )[0][-1]            \n",
    "            \n",
    "            x0_S = min( (S[1] - ymin) * pixel_size, (ymax - S[1]) * pixel_size )\n",
    "            x0_F = min( (F[1] - ymin) * pixel_size, (ymax - F[1]) * pixel_size )\n",
    "\n",
    "            df.loc[df['pretreated_file_name'] == file_name, f'system_size_L_along_SF_pc{pc}_um']  = L\n",
    "            df.loc[df['pretreated_file_name'] == file_name, f'length_L_SF_pc{pc}_um']             = L_SF\n",
    "            df.loc[df['pretreated_file_name'] == file_name, f'x0_pc{pc}_um_shh']                  = x0_S\n",
    "            df.loc[df['pretreated_file_name'] == file_name, f'x0_pc{pc}_um_fgf']                  = x0_F\n",
    "            \n",
    "df.to_excel(\"system_size_L_and_gaps_x0/system_size_L_and_gaps_x0.xlsx\", index=False)"
   ]
  },
  {
   "cell_type": "code",
   "execution_count": null,
   "id": "e8565417-8214-46c0-aa26-750d03b94965",
   "metadata": {},
   "outputs": [],
   "source": []
  },
  {
   "cell_type": "code",
   "execution_count": null,
   "id": "1d7841e7-b742-4da4-8975-b05af74d8370",
   "metadata": {},
   "outputs": [],
   "source": []
  },
  {
   "cell_type": "code",
   "execution_count": null,
   "id": "6c816c0a-7f10-4358-b9e3-c336e2bd008b",
   "metadata": {},
   "outputs": [],
   "source": []
  }
 ],
 "metadata": {
  "celltoolbar": "Hide code",
  "kernelspec": {
   "display_name": "Python 3 (ipykernel)",
   "language": "python",
   "name": "python3"
  },
  "language_info": {
   "codemirror_mode": {
    "name": "ipython",
    "version": 3
   },
   "file_extension": ".py",
   "mimetype": "text/x-python",
   "name": "python",
   "nbconvert_exporter": "python",
   "pygments_lexer": "ipython3",
   "version": "3.9.19"
  },
  "toc-showmarkdowntxt": false
 },
 "nbformat": 4,
 "nbformat_minor": 5
}
