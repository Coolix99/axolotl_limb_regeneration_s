{
 "cells": [
  {
   "cell_type": "code",
   "execution_count": 1,
   "id": "3e231dd7-d95d-4d78-bedf-a5b275111c2a",
   "metadata": {},
   "outputs": [],
   "source": [
    "%load_ext autoreload\n",
    "%autoreload 2"
   ]
  },
  {
   "cell_type": "code",
   "execution_count": 2,
   "id": "e993eec9-c892-4c11-a1ad-7430e734be3f",
   "metadata": {},
   "outputs": [],
   "source": [
    "import numpy as np\n",
    "import os\n",
    "import re\n",
    "import pandas as pd\n",
    "import matplotlib.pylab as plt\n",
    "\n",
    "from image_analysis.read_files import get_paths, change_paths\n",
    "from image_analysis.fit import plot, roi, regionprops\n",
    "from image_analysis.preprocess import mask\n",
    "from image_analysis.align_surface import *\n",
    "\n",
    "from tqdm import tqdm"
   ]
  },
  {
   "cell_type": "code",
   "execution_count": 3,
   "id": "96ef274a-7206-4299-aa16-f1a1255f4831",
   "metadata": {},
   "outputs": [],
   "source": [
    "pixel_size = 2"
   ]
  },
  {
   "cell_type": "code",
   "execution_count": 4,
   "id": "bfeb5766-eec3-4c08-9eee-e5fb5ff0c854",
   "metadata": {},
   "outputs": [],
   "source": [
    "folder_pretreated = r'example_pretreated_images/'"
   ]
  },
  {
   "cell_type": "code",
   "execution_count": 5,
   "id": "60d61746-1ad6-4f39-8c81-daa14da55a33",
   "metadata": {},
   "outputs": [],
   "source": [
    "img_paths = get_paths(folder_pretreated, exclude='.lif_', suffix='.npy')\n",
    "img_paths = change_paths(img_paths, '', 'pixel')\n",
    "img_paths = change_paths(img_paths, '', 'keys')\n",
    "\n",
    "names = [os.path.basename(file).split('.npy')[0] for file in img_paths]"
   ]
  },
  {
   "cell_type": "code",
   "execution_count": 6,
   "id": "ac7f383d-fca5-4a2f-b583-918f72b3c784",
   "metadata": {},
   "outputs": [],
   "source": [
    "df = pd.DataFrame(names, columns=['pretreated_file_name'])\n",
    "df['hcr'] = [ int(name.split('_')[0].split('hcr')[1]) for name in df['pretreated_file_name'] ]"
   ]
  },
  {
   "cell_type": "code",
   "execution_count": 7,
   "id": "bc7c772a-caf4-4036-b2c0-0076c8c365c3",
   "metadata": {},
   "outputs": [
    {
     "data": {
      "text/html": [
       "<div>\n",
       "<style scoped>\n",
       "    .dataframe tbody tr th:only-of-type {\n",
       "        vertical-align: middle;\n",
       "    }\n",
       "\n",
       "    .dataframe tbody tr th {\n",
       "        vertical-align: top;\n",
       "    }\n",
       "\n",
       "    .dataframe thead th {\n",
       "        text-align: right;\n",
       "    }\n",
       "</style>\n",
       "<table border=\"1\" class=\"dataframe\">\n",
       "  <thead>\n",
       "    <tr style=\"text-align: right;\">\n",
       "      <th></th>\n",
       "      <th>pretreated_file_name</th>\n",
       "      <th>hcr</th>\n",
       "    </tr>\n",
       "  </thead>\n",
       "  <tbody>\n",
       "    <tr>\n",
       "      <th>0</th>\n",
       "      <td>hcr21_2_5cm_7dpa_noif</td>\n",
       "      <td>21</td>\n",
       "    </tr>\n",
       "    <tr>\n",
       "      <th>1</th>\n",
       "      <td>hcr21_2_5cm_6dpa_p_hist</td>\n",
       "      <td>21</td>\n",
       "    </tr>\n",
       "  </tbody>\n",
       "</table>\n",
       "</div>"
      ],
      "text/plain": [
       "      pretreated_file_name  hcr\n",
       "0    hcr21_2_5cm_7dpa_noif   21\n",
       "1  hcr21_2_5cm_6dpa_p_hist   21"
      ]
     },
     "execution_count": 7,
     "metadata": {},
     "output_type": "execute_result"
    }
   ],
   "source": [
    "df"
   ]
  },
  {
   "cell_type": "code",
   "execution_count": 8,
   "id": "7a3bfb4b-032a-40d3-b4c4-1d61c180bf27",
   "metadata": {},
   "outputs": [
    {
     "name": "stderr",
     "output_type": "stream",
     "text": [
      "0it [00:00, ?it/s]"
     ]
    },
    {
     "name": "stdout",
     "output_type": "stream",
     "text": [
      "0 hcr21_2_5cm_7dpa_noif\n",
      "do not need to rotate around x\n",
      "rotation around y:\n",
      "0 -2.2081507697602945 0\n",
      "dictionary, with 3d data\n",
      "angle beetween ey and surface PCA, 2: -2\n"
     ]
    },
    {
     "name": "stderr",
     "output_type": "stream",
     "text": [
      "1it [00:13, 13.98s/it]"
     ]
    },
    {
     "name": "stdout",
     "output_type": "stream",
     "text": [
      "1 hcr21_2_5cm_6dpa_p_hist\n",
      "rotation around x:\n",
      "6.545299626072064 0 0\n",
      "dictionary, with 3d data\n",
      "rotation around y:\n",
      "0 7.468080113772495 0\n",
      "dictionary, with 3d data\n",
      "strange rotation\n",
      "angle beetween ey and surface PCA, 2: -7\n"
     ]
    },
    {
     "name": "stderr",
     "output_type": "stream",
     "text": [
      "2it [00:30, 15.22s/it]\n"
     ]
    }
   ],
   "source": [
    "for i, file_name in tqdm( enumerate( df['pretreated_file_name'].values) ):\n",
    "\n",
    "    print(i, file_name)\n",
    "    \n",
    "    file = os.path.join( folder_pretreated, file_name) + '.npy'\n",
    "    \n",
    "    keys = np.load( file.split('.npy')[0] + '_keys.npy' )\n",
    "    image = dict(zip(\n",
    "        keys,\n",
    "        np.load( file )\n",
    "    ))\n",
    "\n",
    "    # align\n",
    "    surface = make_surf(image['tissue_mask_with_epi'])\n",
    "    surface = surface_crop_mask(surface, image['tissue_mask_with_epi'], 0.01)\n",
    "\n",
    "    regionprops_3d = regionprops.regionprops_3d( image, 1, 1, 1, pixel_size)\n",
    "    image          = regionprops_3d.rotate_surface_pca_to_ez(surface, 2 )\n",
    "\n",
    "    # update\n",
    "    np.save( file, np.array(list(image.values())) )"
   ]
  },
  {
   "cell_type": "code",
   "execution_count": null,
   "id": "e8565417-8214-46c0-aa26-750d03b94965",
   "metadata": {},
   "outputs": [],
   "source": []
  },
  {
   "cell_type": "code",
   "execution_count": null,
   "id": "674a4a56-c97a-45b7-b346-f5152a951bbf",
   "metadata": {},
   "outputs": [],
   "source": []
  }
 ],
 "metadata": {
  "celltoolbar": "Hide code",
  "kernelspec": {
   "display_name": "Python 3 (ipykernel)",
   "language": "python",
   "name": "python3"
  },
  "language_info": {
   "codemirror_mode": {
    "name": "ipython",
    "version": 3
   },
   "file_extension": ".py",
   "mimetype": "text/x-python",
   "name": "python",
   "nbconvert_exporter": "python",
   "pygments_lexer": "ipython3",
   "version": "3.9.19"
  },
  "toc-showmarkdowntxt": false
 },
 "nbformat": 4,
 "nbformat_minor": 5
}
