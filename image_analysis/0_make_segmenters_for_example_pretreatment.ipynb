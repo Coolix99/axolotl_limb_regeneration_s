{
 "cells": [
  {
   "cell_type": "markdown",
   "id": "39282645-acad-41b8-92cd-b4c7e98b8961",
   "metadata": {},
   "source": [
    "# Segmentation of tissue using APOC segmentation GPU-accelerated supervised ML algorithm, utilizing manual annotation\n",
    "\n",
    "- APOC object segmentation: https://github.com/haesleinhuepf/apoc/blob/main/demo/demo_object_segmenter.ipynb\n",
    "- Depending on the GPU available, segmentations might run slow"
   ]
  },
  {
   "cell_type": "code",
   "execution_count": 1,
   "id": "cce641ef-b94f-47e2-b49a-700b7e88f592",
   "metadata": {},
   "outputs": [],
   "source": [
    "import numpy as np\n",
    "import pandas as pd\n",
    "import matplotlib.pylab as plt\n",
    "\n",
    "import apoc\n",
    "import pyclesperanto_prototype as cle\n",
    "import napari\n",
    "import tifffile"
   ]
  },
  {
   "cell_type": "code",
   "execution_count": 2,
   "id": "a0a90538-a6b7-4550-bd9d-5d0f34ac0635",
   "metadata": {
    "tags": []
   },
   "outputs": [],
   "source": [
    "from image_analysis.read_files import get_paths, change_paths"
   ]
  },
  {
   "cell_type": "markdown",
   "id": "41db52a5-1a24-4093-9fb4-5e4378552f5a",
   "metadata": {},
   "source": [
    "# GPU device"
   ]
  },
  {
   "cell_type": "code",
   "execution_count": 3,
   "id": "feb5bc13-d1a0-4725-956a-e0f083f49bc1",
   "metadata": {},
   "outputs": [
    {
     "name": "stdout",
     "output_type": "stream",
     "text": [
      "Device name: NVIDIA GeForce RTX 4090\n"
     ]
    }
   ],
   "source": [
    "device = cle.get_device()\n",
    "print(\"Device name:\", device.name)"
   ]
  },
  {
   "cell_type": "markdown",
   "id": "62418402-b3c9-4c8c-9767-eff811fa1e5f",
   "metadata": {},
   "source": [
    "# Information about the image"
   ]
  },
  {
   "cell_type": "code",
   "execution_count": 3,
   "id": "c6c97978-bf48-49cc-a966-cd5048157229",
   "metadata": {
    "hideCode": true,
    "tags": []
   },
   "outputs": [],
   "source": [
    "channels = {\n",
    "            \"fgf\":    0, \n",
    "            \"shh\":    1, \n",
    "            \"bright\": 2, \n",
    "            \"dapi\":   3, \n",
    "            \"dusp\":   4, \n",
    "            \"auto\":   5\n",
    "           }"
   ]
  },
  {
   "cell_type": "markdown",
   "id": "9cd4cb7f-a178-430d-ab4a-d8ca12e06b2b",
   "metadata": {},
   "source": [
    "# Fixed values for image preprocessing"
   ]
  },
  {
   "cell_type": "code",
   "execution_count": 4,
   "id": "bbc7f912-5c64-4c98-aa40-eb22063c563f",
   "metadata": {},
   "outputs": [],
   "source": [
    "downsample = 2                 # downsampling level while image loading (the same along all axis)"
   ]
  },
  {
   "cell_type": "markdown",
   "id": "abe03ddc",
   "metadata": {},
   "source": [
    "# Load image"
   ]
  },
  {
   "cell_type": "code",
   "execution_count": 5,
   "id": "79d1effd",
   "metadata": {
    "hideOutput": false,
    "tags": []
   },
   "outputs": [],
   "source": [
    "image_folder_tif = r'example_raw_images/'\n",
    "sample = '2_5cm_7dpa_noif'\n",
    "\n",
    "img_paths = get_paths(image_folder_tif, suffix='tif')\n",
    "img_paths = change_paths(img_paths, include='noif')"
   ]
  },
  {
   "cell_type": "code",
   "execution_count": 6,
   "id": "89a386a7-0020-4f03-8381-b284c9ba03a5",
   "metadata": {},
   "outputs": [],
   "source": [
    "img_paths = sorted(\n",
    "    img_paths,\n",
    "    key = lambda c: c.split('/c')[1].split('_')[0]\n",
    ")"
   ]
  },
  {
   "cell_type": "code",
   "execution_count": 7,
   "id": "6df1d2b1-e3dd-4c00-b80c-06c2ce75e10a",
   "metadata": {},
   "outputs": [
    {
     "data": {
      "text/plain": [
       "['example_raw_images/c1_hcr21_20240726_7d_noif_t4a#18.tif',\n",
       " 'example_raw_images/c2_hcr21_20240726_7d_noif_t4a#18.tif',\n",
       " 'example_raw_images/c3_hcr21_20240726_7d_noif_t4a#18.tif',\n",
       " 'example_raw_images/c4_hcr21_20240726_7d_noif_t4a#18.tif',\n",
       " 'example_raw_images/c5_hcr21_20240726_7d_noif_t4a#18.tif',\n",
       " 'example_raw_images/c6_hcr21_20240726_7d_noif_t4a#18.tif']"
      ]
     },
     "execution_count": 7,
     "metadata": {},
     "output_type": "execute_result"
    }
   ],
   "source": [
    "img_paths"
   ]
  },
  {
   "cell_type": "code",
   "execution_count": 8,
   "id": "dd97941c-b0c6-418a-b465-d47211214f42",
   "metadata": {
    "tags": []
   },
   "outputs": [],
   "source": [
    "img = []\n",
    "for path in img_paths:\n",
    "    i = tifffile.imread(path)\n",
    "    img.append(i[::downsample, ::downsample, ::downsample])\n",
    "img = np.array(img).astype( np.uint16 )\n",
    "\n",
    "channels = list(channels.keys())\n",
    "img = dict(zip(channels, img))"
   ]
  },
  {
   "cell_type": "raw",
   "id": "20fe31ae-9726-4886-9964-13ce9a739ff9",
   "metadata": {
    "tags": []
   },
   "source": [
    "viewer = napari.Viewer()\n",
    "\n",
    "for key in img.keys():\n",
    "    viewer.add_image( img[key], name = key )"
   ]
  },
  {
   "cell_type": "markdown",
   "id": "b7b9a67d-902e-47b7-9986-3dbdd82a130e",
   "metadata": {},
   "source": [
    "# Segmenter for tissue mask"
   ]
  },
  {
   "cell_type": "code",
   "execution_count": 9,
   "id": "d6956979-f970-4d91-ae1f-3c520eec82e5",
   "metadata": {},
   "outputs": [],
   "source": [
    "manual_annotations = tifffile.imread('segmenters/manual_annotations_for_tissue_mask.tif')"
   ]
  },
  {
   "cell_type": "code",
   "execution_count": 10,
   "id": "4c9fd8a1-7658-4c65-84b3-d60cd94fc1d0",
   "metadata": {},
   "outputs": [],
   "source": [
    "# define features (standart)\n",
    "features = apoc.PredefinedFeatureSet.small_quick.value\n",
    "\n",
    "# this is where the model will be saved\n",
    "cl_filename = \"segmenters/tissue_mask_2_5cm.cl\"\n",
    "\n",
    "apoc.erase_classifier(cl_filename)\n",
    "clf = apoc.ObjectSegmenter(opencl_filename=cl_filename, positive_class_identifier=2)\n",
    "clf.train(features, manual_annotations, img['dusp'])"
   ]
  },
  {
   "cell_type": "code",
   "execution_count": 11,
   "id": "754772b2-5702-4ab4-a226-9ceffe44d75e",
   "metadata": {},
   "outputs": [
    {
     "name": "stderr",
     "output_type": "stream",
     "text": [
      "/home/natalia/miniconda3/envs/image_analysis_2/lib/python3.9/site-packages/pyclesperanto_prototype/_tier9/_imshow.py:34: UserWarning: cle.imshow is deprecated, use stackview.imshow instead.\n",
      "  warnings.warn(\"cle.imshow is deprecated, use stackview.imshow instead.\")\n"
     ]
    },
    {
     "data": {
      "image/png": "[encoded data removed]",
      "text/plain": [
       "<Figure size 640x480 with 1 Axes>"
      ]
     },
     "metadata": {},
     "output_type": "display_data"
    }
   ],
   "source": [
    "segmentation_result = clf.predict(features=features, image=img['dusp'])\n",
    "cle.imshow(segmentation_result, labels=True)"
   ]
  },
  {
   "cell_type": "raw",
   "id": "60803fcd-c403-4fe8-b627-9587d885ec31",
   "metadata": {},
   "source": [
    "# check segmentation in 3d\n",
    "viewer = napari.Viewer()\n",
    "viewer.add_image(  img['dusp'] )\n",
    "viewer.add_labels( segmentation_result )"
   ]
  },
  {
   "cell_type": "markdown",
   "id": "85743278-008c-4f67-916f-6783b301fb75",
   "metadata": {},
   "source": [
    "# Segmenter for artifacts"
   ]
  },
  {
   "cell_type": "code",
   "execution_count": 12,
   "id": "cdabd77c-566f-483c-8c06-5dea0eb083d0",
   "metadata": {},
   "outputs": [],
   "source": [
    "manual_annotations = tifffile.imread('segmenters/manual_annotations_for_artifacts.tif')"
   ]
  },
  {
   "cell_type": "code",
   "execution_count": 13,
   "id": "f4bfa6d6-820b-4e77-9f5c-df946e7f6439",
   "metadata": {},
   "outputs": [],
   "source": [
    "# define features (standart)\n",
    "features = apoc.PredefinedFeatureSet.small_quick.value\n",
    "\n",
    "# this is where the model will be saved\n",
    "cl_filename = \"segmenters/artifacts_2_5cm.cl\"\n",
    "\n",
    "apoc.erase_classifier(cl_filename)\n",
    "clf = apoc.ObjectSegmenter(opencl_filename=cl_filename, positive_class_identifier=2)\n",
    "clf.train(features, manual_annotations, img['auto'])"
   ]
  },
  {
   "cell_type": "code",
   "execution_count": 14,
   "id": "5cf9917e-7600-4a91-bdfd-e18e97993462",
   "metadata": {},
   "outputs": [
    {
     "name": "stderr",
     "output_type": "stream",
     "text": [
      "/home/natalia/miniconda3/envs/image_analysis_2/lib/python3.9/site-packages/pyclesperanto_prototype/_tier9/_imshow.py:34: UserWarning: cle.imshow is deprecated, use stackview.imshow instead.\n",
      "  warnings.warn(\"cle.imshow is deprecated, use stackview.imshow instead.\")\n"
     ]
    },
    {
     "data": {
      "image/png": "[encoded data removed]",
      "text/plain": [
       "<Figure size 640x480 with 1 Axes>"
      ]
     },
     "metadata": {},
     "output_type": "display_data"
    }
   ],
   "source": [
    "segmentation_result = clf.predict(features=features, image=img['auto'])\n",
    "cle.imshow(segmentation_result, labels=True)"
   ]
  },
  {
   "cell_type": "raw",
   "id": "04738dea-77f2-4676-b39d-7486a2f2f203",
   "metadata": {},
   "source": [
    "# check segmentation in 3d\n",
    "viewer = napari.Viewer()\n",
    "viewer.add_image(  img['auto'] )\n",
    "viewer.add_labels( segmentation_result )"
   ]
  },
  {
   "cell_type": "code",
   "execution_count": null,
   "id": "417eabb3-00e2-4f21-b9b8-a616d5df70cb",
   "metadata": {},
   "outputs": [],
   "source": []
  }
 ],
 "metadata": {
  "celltoolbar": "Hide code",
  "kernelspec": {
   "display_name": "Python 3 (ipykernel)",
   "language": "python",
   "name": "python3"
  },
  "language_info": {
   "codemirror_mode": {
    "name": "ipython",
    "version": 3
   },
   "file_extension": ".py",
   "mimetype": "text/x-python",
   "name": "python",
   "nbconvert_exporter": "python",
   "pygments_lexer": "ipython3",
   "version": "3.9.19"
  },
  "toc-showmarkdowntxt": false
 },
 "nbformat": 4,
 "nbformat_minor": 5
}
